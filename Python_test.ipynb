{
  "nbformat": 4,
  "nbformat_minor": 0,
  "metadata": {
    "colab": {
      "provenance": [],
      "authorship_tag": "ABX9TyPtXlKN2PIOGqWkhpm5n+3F",
      "include_colab_link": true
    },
    "kernelspec": {
      "name": "python3",
      "display_name": "Python 3"
    },
    "language_info": {
      "name": "python"
    }
  },
  "cells": [
    {
      "cell_type": "markdown",
      "metadata": {
        "id": "view-in-github",
        "colab_type": "text"
      },
      "source": [
        "<a href=\"https://colab.research.google.com/github/GamerFox2000/Python-calc/blob/main/Python_test.ipynb\" target=\"_parent\"><img src=\"https://colab.research.google.com/assets/colab-badge.svg\" alt=\"Open In Colab\"/></a>"
      ]
    },
    {
      "cell_type": "code",
      "execution_count": null,
      "metadata": {
        "colab": {
          "base_uri": "https://localhost:8080/"
        },
        "id": "101tgND3Kmr3",
        "outputId": "4066642b-fa9a-4533-a61f-8aa441d3e35e"
      },
      "outputs": [
        {
          "output_type": "stream",
          "name": "stdout",
          "text": [
            "Bienvenido a Python\n",
            "Introduzca su nombre:\toscar\n",
            "Hola de nuevo Óscar\n",
            "1 Calculadora\n",
            "2 Juegos\n",
            "3 Admin\n",
            "Elige 1, 2 o 3 \n",
            "3\n",
            "Admin\n"
          ]
        }
      ],
      "source": [
        "import random\n",
        "import requests\n",
        "print(\"Bienvenido a Python\")\n",
        "nombre = input(\"Introduzca su nombre:\\t\")\n",
        "if nombre == \"oscar\":\n",
        " print(\"Hola de nuevo Óscar\")\n",
        "else :\n",
        " print(\"Bienvenido\", nombre)\n",
        "print(\"1 Calculadora\")\n",
        "print(\"2 Juegos\")\n",
        "print(\"3 Admin\")\n",
        "print(\"Actualización\")\n",
        "elegir = input(\"Elige 1, 2 o 3 \\n\")\n",
        "elegir = int(elegir)\n",
        "if elegir == 1:\n",
        "  def suma(a, b):\n",
        "    return a + b\n",
        "\n",
        "  def resta(a, b):\n",
        "    return a - b\n",
        "\n",
        "  def multiplicacion(a, b):\n",
        "    return a * b\n",
        "\n",
        "  def division(a, b):\n",
        "    if b != 0:\n",
        "        return a / b\n",
        "    else:\n",
        "        return \"Error: No se puede dividir entre cero\"\n",
        "  print(\"Seleccione la operación:\")\n",
        "  print(\"1. Suma\")\n",
        "  print(\"2. Resta\")\n",
        "  print(\"3. Multiplicación\")\n",
        "  print(\"4. División\")\n",
        "\n",
        "  opcion = input(\"Ingrese la opción (1/2/3/4): \")\n",
        "\n",
        "  num1 = float(input(\"Ingrese el primer número: \"))\n",
        "  num2 = float(input(\"Ingrese el segundo número: \"))\n",
        "  if opcion == '1':\n",
        "    print(\"La suma es:\", suma(num1, num2))\n",
        "  elif opcion == '2':\n",
        "    print(\"La resta es:\", resta(num1, num2))\n",
        "  elif opcion == '3':\n",
        "    print(\"La multiplicación es:\", multiplicacion(num1, num2))\n",
        "  elif opcion == '4':\n",
        "    print(\"La división es:\", division(num1, num2))\n",
        "  else:\n",
        "    print(\"Rerun code please\")\n",
        "\n",
        "elif elegir == 2:\n",
        "  #esto es un menu para los juegos\n",
        "  print(\"Elige un juego\")\n",
        "  print(\"1 adivinanzas\")\n",
        "\n",
        "  erjo = input(\"\\n\")\n",
        "  erjo=int(erjo)\n",
        "  if erjo == 1:\n",
        "    def jugar_adivinanza():\n",
        "      numero_secreto = random.randint(1, 100)\n",
        "      intentos = 0\n",
        "\n",
        "      print(\"¡Bienvenido\", nombre ,\"a Adivina el Número!\")\n",
        "      print(\"Estoy pensando en un número entre 1 y 100.\")\n",
        "\n",
        "      while True:\n",
        "        intento = int(input(\"¿Cuál es tu adivinanza? \"))\n",
        "\n",
        "        intentos += 1\n",
        "\n",
        "        if intento < numero_secreto:\n",
        "            print(\"Demasiado bajo. Intenta de nuevo.\")\n",
        "        elif intento > numero_secreto:\n",
        "            print(\"Demasiado alto. Intenta de nuevo.\")\n",
        "        else:\n",
        "            print(f\"¡Felicidades! ¡Adivinaste el número en {intentos} intentos!\")\n",
        "            break\n",
        "      volver_a_jugar = input(\"¿Quieres jugar de nuevo? (s/n): \")\n",
        "      if volver_a_jugar.lower() == \"s\":\n",
        "        jugar_adivinanza()\n",
        "      else:\n",
        "        print(\"¡Gracias por jugar!\")\n",
        "\n",
        "    jugar_adivinanza()\n",
        "\n",
        "elif (elegir == 3) and (nombre == \"oscar\"):\n",
        "  print (\"Admin\")\n",
        "elif elegir == 4:\n",
        "  print(\"actualizando\")\n",
        "  def descargar_archivo(url, nombre_archivo):\n",
        "    try:\n",
        "        # Realizar la solicitud GET a la URL para descargar el archivo\n",
        "        respuesta = requests.get(url)\n",
        "        # Verificar si la solicitud fue exitosa (código de estado 200)\n",
        "        if respuesta.status_code == 200:\n",
        "            # Escribir el contenido descargado en un archivo local\n",
        "            with open(nombre_archivo, 'wb') as archivo:\n",
        "                archivo.write(respuesta.content)\n",
        "            print(f\"El archivo {nombre_archivo} ha sido descargado exitosamente.\")\n",
        "        else:\n",
        "            print(\"Error al descargar el archivo.\")\n",
        "    except Exception as e:\n",
        "        print(\"Ocurrió un error:\", e)\n",
        "\n",
        "    # URL del archivo a descargar y nombre local del archivo\n",
        "    url_archivo = \"https://ejemplo.com/archivo.zip\"\n",
        "    nombre_local = \"Python-calc.zip\"\n",
        "\n",
        "    # Llamar a la función para descargar el archivo\n",
        "    descargar_archivo(url_archivo, nombre_local)\n",
        "\n",
        "else:\n",
        "  print (\"Rerun code please\")\n"
      ]
    },
    {
      "cell_type": "code",
      "source": [],
      "metadata": {
        "id": "LaZpO9liLFKG"
      },
      "execution_count": null,
      "outputs": []
    }
  ]
}